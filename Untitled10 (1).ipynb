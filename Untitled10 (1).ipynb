{
  "metadata": {
    "kernelspec": {
      "name": "python",
      "display_name": "Python (Pyodide)",
      "language": "python"
    },
    "language_info": {
      "codemirror_mode": {
        "name": "python",
        "version": 3
      },
      "file_extension": ".py",
      "mimetype": "text/x-python",
      "name": "python",
      "nbconvert_exporter": "python",
      "pygments_lexer": "ipython3",
      "version": "3.8"
    }
  },
  "nbformat_minor": 4,
  "nbformat": 4,
  "cells": [
    {
      "cell_type": "markdown",
      "source": "[1. n! 값을 구하는 Python code를 작성해봅시다.]\n\ndef factorial_iterative(n):\n    result = 1\n    for i in range(2, n + 1):\n        result *= i\n    return result\n\n# 테스트\nnum = int(input(\"자연수를 입력하세요: \"))\nprint(f\"{num}! = {factorial_iterative(num)}\")\n\n1. factorial_iterative 함수는 반복문을 사용하여 팩토리얼을 계산합니다.\n2. result 변수를 1로 초기화하고, 2부터 n까지의 모든 수를 곱합니다.\n3. 최종적으로 계산된 결과를 반환합니다.",
      "metadata": {}
    },
    {
      "cell_type": "code",
      "source": "[2. 사용자로부터 유효한 입력 값을 받을 때까지 사용자에게 입력을 요구하는 Python code를 작성해볼까요?\n예를 들면, 사용자에게 숫자 1부터 10까지의 입력을 요구합니다.\n잘못된 입력이 있을 때는 다시 사용자에게 다시 입력을 요구합니다.\n사용자가 유효한 입력을 했을 때는 그 값을 출력하고  종료합니다.]\n\ndef get_valid_input():\n    while True:\n        try:\n            # 사용자로부터 입력받기\n            user_input = int(input(\"숫자 1부터 10까지의 값을 입력하세요: \"))\n            # 입력값이 유효한지 확인\n            if 1 <= user_input <= 10:\n                print(f\"유효한 입력입니다: {user_input}\")\n                return user_input\n            else:\n                print(\"잘못된 입력입니다. 1부터 10까지의 숫자를 입력하세요.\")\n        except ValueError:\n            # 정수가 아닌 값이 입력된 경우\n            print(\"잘못된 입력입니다. 숫자를 입력하세요.\")\n\n# 함수 호출\nget_valid_input()\n\nwhile True:\n유효한 입력을 받을 때까지 무한 루프를 실행합니다.\n\nuser_input = int(input(\"숫자 1부터 10까지의 값을 입력하세요: \"))\ninput 함수로 사용자로부터 입력을 받습니다.\nint 함수를 사용하여 입력 값을 정수로 변환합니다. 만약 정수로 변환할 수 없는 값이 입력되면 ValueError가 발생합니다.\n\n",
      "metadata": {
        "trusted": true
      },
      "outputs": [],
      "execution_count": null
    },
    {
      "cell_type": "markdown",
      "source": "3. import math\n\ndef calculate_total_pages(m, n):\n    # 총 페이지 수 계산 (올림 사용)\n    total_pages = math.ceil(m / n)\n    return total_pages\n\n# 사용자 입력 받기\ntotal_posts = int(input(\"총 건수를 입력하세요: \"))\nposts_per_page = int(input(\"한 페이지에 보여줄 게시물 수를 입력하세요: \"))\n\n# 총 페이지 수 계산\ntotal_pages = calculate_total_pages(total_posts, posts_per_page)\n\n# 결과 출력\nprint(f\"총 페이지 수: {total_pages}\")\n\n\n",
      "metadata": {}
    }
  ]
}